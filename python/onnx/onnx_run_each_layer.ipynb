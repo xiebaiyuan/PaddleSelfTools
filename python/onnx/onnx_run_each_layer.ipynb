{
 "nbformat": 4,
 "nbformat_minor": 2,
 "metadata": {
  "language_info": {
   "name": "python3",
   "codemirror_mode": {
    "name": "ipython",
    "version": 3
   },
   "version": "3.7.0"
  },
  "orig_nbformat": 2,
  "file_extension": ".py",
  "mimetype": "text/x-python3",
  "name": "python3",
  "npconvert_exporter": "python3",
  "pygments_lexer": "ipython3",
  "version": 3
 },
 "cells": [
  {
   "cell_type": "code",
   "metadata": {},
   "outputs": [],
   "source": [
    "import onnx\n",
    "from onnx import shape_inference\n",
    "import warnings\n",
    "from onnx_tf.backend import prepare\n",
    "import numpy as np"
   ]
  },
  {
   "cell_type": "code",
   "metadata": {},
   "outputs": [],
   "source": [
    "def stride_print(input):\n",
    "    tensor = input.flatten().tolist()\n",
    "    length = len(tensor)\n",
    "    size = 20\n",
    "    stride = length//size\n",
    "    if stride == 0:\n",
    "        stride = 1\n",
    "    size = length // stride\n",
    "    nums = []\n",
    "    for i in range(0, size):\n",
    "        item = tensor[i * stride]\n",
    "        # nums.append(str(i * stride) + \": \" + str(item))\n",
    "        nums.append(str(item))\n",
    "    print(nums)\n",
    "    # for i in range(0, size):\n",
    "    #     item = tensor[i * stride]\n",
    "    #     print (\"{} \".format(item),end=\"\")"
   ]
  },
  {
   "cell_type": "code",
   "metadata": {},
   "outputs": [],
   "source": [
    "dot = \"•\"\n",
    "black = lambda x: \"\\033[30m\" + str(x) + \"\\033[0m\"\n",
    "red = lambda x: \"\\033[31m\" + str(x) + \"\\033[0m\"\n",
    "green = lambda x: \"\\033[32m\" + str(x) + \"\\033[0m\"\n",
    "yellow = lambda x: \"\\033[33m\" + str(x) + \"\\033[0m\"\n",
    "reset = lambda x: \"\\033[0m\" + str(x)\n",
    "\n",
    "def pp_tab(x, level=0):\n",
    "    header = \"\"\n",
    "    for i in range(0, level):\n",
    "        header += \"\\t\"\n",
    "    print(header + str(x))\n",
    "def pp_black(x, level=0):\n",
    "    pp_tab(black(x) + reset(\"\"), level)\n",
    "def pp_red(x, level=0):\n",
    "    pp_tab(red(x) + reset(\"\"), level)\n",
    "def pp_green(x, level=0):\n",
    "    pp_tab(green(x) + reset(\"\"), level)\n",
    "def pp_yellow(x, level=0):\n",
    "    pp_tab(yellow(x) + reset(\"\"), level)"
   ]
  },
  {
   "cell_type": "code",
   "metadata": {},
   "outputs": [],
   "source": [
    "diff_threadhold = 0.05\n",
    "def compare(input):\n",
    "    stride_print(input)\n",
    "    tensor = input.flatten().tolist()\n",
    "    length = len(tensor)\n",
    "    size = 20\n",
    "    stride = length//size\n",
    "    if stride == 0:\n",
    "        stride = 1\n",
    "    size = length // stride\n",
    "    nums = []\n",
    "    for i in range(0, size):\n",
    "        item = tensor[i * stride]\n",
    "        # nums.append(str(i * stride) + \": \" + str(item))\n",
    "        nums.append(item)\n",
    "    diff_ = 0\n",
    "    is_pass = True\n",
    "    for i in range(0,size):\n",
    "        right_v = nums[i]\n",
    "        paddle_v = float(input_paddle[i])\n",
    "        diff=abs(right_v-paddle_v)\n",
    "        diff_+=diff\n",
    "        if (diff>diff_threadhold):\n",
    "            is_pass = False\n",
    "            print(\"err at {} {} {} \".format(i,right_v,paddle_v))\n",
    "    if(is_pass):\n",
    "        pp_green(\"passed with avg diff is {}\".format(diff_/size))  \n",
    "    else:\n",
    "        pp_red(\"not pass!\")"
   ]
  },
  {
   "cell_type": "code",
   "metadata": {},
   "outputs": [],
   "source": [
    "model = onnx.load(\"v18_7_6_2_leakyReLU_rgb_mask_test_t2.onnx\")\n",
    "onnx.checker.check_model(model)\n",
    "inferred_model = shape_inference.infer_shapes(model)"
   ]
  },
  {
   "cell_type": "code",
   "metadata": {},
   "outputs": [],
   "source": [
    "model.graph.output.extend(inferred_model.graph.value_info)"
   ]
  },
  {
   "cell_type": "code",
   "metadata": {},
   "outputs": [],
   "source": [
    "warnings.filterwarnings('ignore')\n",
    "tfm = prepare(model)\n",
    "# input = np.fromfile('input', dtype=np.float32).reshape(1, 3, 256, 256)\n",
    "input = np.loadtxt('./input_1_3_256_256',\n",
    "                   dtype=np.float32).reshape(1, 3, 256, 256)\n",
    "res = tfm.run(input)"
   ]
  },
  {
   "cell_type": "code",
   "metadata": {},
   "outputs": [],
   "source": [
    "input_paddle = \"0.53125 0.549316 0.558594 0.677246 0.470703 0.634766 0.540039 0.566406 0.495605 0.597168 0.602539 0.480957 0.448486 0.553711 0.474365 0.612793 0.609863 0.518555 0.617188 0.505371 0.504395\".split(\" \")\n",
    "compare(res[\"mask\"])"
   ]
  },
  {
   "cell_type": "code",
   "metadata": {},
   "outputs": [],
   "source": []
  },
  {
   "cell_type": "code",
   "metadata": {},
   "outputs": [],
   "source": [
    "input_paddle = \"0.245117 -0.222656 0.0887451 0.803711 0.639648 0.0995483 0.807129 -0.224609 -0.267578 0.33667 0.372559 -0.353516 0.343262 0.549805 0.344971 0.503906 0.152466 -0.0531616 0.0315247 -0.0397034 -0.218262\".split(\" \")\n",
    "compare(res[\"rgb\"])"
   ]
  }
 ]
}