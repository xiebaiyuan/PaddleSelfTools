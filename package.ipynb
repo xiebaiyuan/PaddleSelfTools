{
 "nbformat": 4,
 "nbformat_minor": 2,
 "metadata": {
  "language_info": {
   "name": "python3",
   "codemirror_mode": {
    "name": "ipython",
    "version": 3
   },
   "version": "3.7.0"
  },
  "orig_nbformat": 2,
  "file_extension": ".py",
  "mimetype": "text/x-python3",
  "name": "python3",
  "npconvert_exporter": "python3",
  "pygments_lexer": "ipython3",
  "version": 3
 },
 "cells": [
  {
   "cell_type": "code",
   "metadata": {},
   "outputs": [],
   "source": [
    "dot = \"•\"\n",
    "black = lambda x: \"\\033[30m\" + str(x) + \"\\033[0m\"\n",
    "red = lambda x: \"\\033[31m\" + str(x) + \"\\033[0m\"\n",
    "green = lambda x: \"\\033[32m\" + str(x) + \"\\033[0m\"\n",
    "yellow = lambda x: \"\\033[33m\" + str(x) + \"\\033[0m\"\n",
    "reset = lambda x: \"\\033[0m\" + str(x)\n",
    "\n",
    "def pp_tab(x, level=0):\n",
    "    header = \"\"\n",
    "    for i in range(0, level):\n",
    "        header += \"\\t\"\n",
    "    print(header + str(x))\n",
    "def pp_black(x, level=0):\n",
    "    pp_tab(black(x) + reset(\"\"), level)\n",
    "def pp_red(x, level=0):\n",
    "    pp_tab(red(x) + reset(\"\"), level)\n",
    "def pp_green(x, level=0):\n",
    "    pp_tab(green(x) + reset(\"\"), level)\n",
    "def pp_yellow(x, level=0):\n",
    "    pp_tab(yellow(x) + reset(\"\"), level)"
   ]
  },
  {
   "cell_type": "code",
   "metadata": {},
   "outputs": [],
   "source": [
    "import subprocess\n",
    "def sh(command):\n",
    "    pipe = subprocess.Popen(command, shell=True, stdout=subprocess.PIPE, stderr=subprocess.STDOUT)\n",
    "    return pipe.stdout.read().decode(\"utf-8\")\n",
    "def push(src, dest=\"\"):\n",
    "    sh(\"adb push {} {}\".format(src, images_path + \"/\" + dest))"
   ]
  },
  {
   "cell_type": "code",
   "metadata": {},
   "outputs": [],
   "source": [
    "# import os\n",
    "\n",
    "# def package(dir):\n",
    "#     build_varients = (\"android_armv7\",\"android_armv8\")\n",
    "#     for varient in build_varients:\n",
    "#         pp_green(\"build {} ...\".format(varient))\n",
    "#         res = sh(\"cd {}/PaddleMobileTools; ./package.sh {}\".format(dir,varient))\n",
    "#         # pp_yellow(res,1)\n",
    "#         pp_green(\"build {} end\".format(varient))\n",
    "\n",
    "# mobile_dir = \"/Users/xiebaiyuan/PaddleProject/paddle-mobile/mobile\"\n",
    "# package(mobile_dir)\n",
    "\n"
   ]
  },
  {
   "cell_type": "code",
   "metadata": {},
   "outputs": [],
   "source": [
    "import os\n",
    "\n",
    "def package(dir):\n",
    "    res = sh(\"cd {}/PaddleMobileTools; ./package.sh\".format(dir))\n",
    "mobile_dir = \"/Users/xiebaiyuan/PaddleProject/paddle-mobile/mobile\"\n",
    "package(mobile_dir)"
   ]
  }
 ]
}